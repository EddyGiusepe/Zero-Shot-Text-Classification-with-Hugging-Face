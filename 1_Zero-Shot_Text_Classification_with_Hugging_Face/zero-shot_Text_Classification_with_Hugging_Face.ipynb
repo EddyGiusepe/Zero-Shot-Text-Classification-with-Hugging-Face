{
 "cells": [
  {
   "attachments": {},
   "cell_type": "markdown",
   "metadata": {},
   "source": [
    "<h1 align=\"center\">Zero-Shot Text Classification with Hugging Face</h1>"
   ]
  },
  {
   "attachments": {},
   "cell_type": "markdown",
   "metadata": {},
   "source": [
    "Data Scientist.: Dr.Eddy Giusepe Chirinos Isidro"
   ]
  },
  {
   "attachments": {},
   "cell_type": "markdown",
   "metadata": {},
   "source": [
    "<font color=\"orange\">Este Script é sobre como detectar o sentimento do texto de forma não-supervisionada, usando o modelo de classificação de texto Hugging Face zero-shot.</font> (zero-shot Pipeline sentiment)\n",
    "\n",
    "\n",
    " Estava estudando como detectar o sentimento do texto de maneira não-supervisionada. Mais especificamente, tratava-se da extração de dados. Com base em alguns tópicos predefinidos, minha tarefa era automatizar a extração de informações de dados de texto. Enquanto fazia pesquisas e verificava as melhores maneiras de resolver esse problema, descobri que o `Hugging Face NLP` oferece suporte à `classificação de texto zero-shot`.\n"
   ]
  },
  {
   "attachments": {},
   "cell_type": "markdown",
   "metadata": {},
   "source": [
    "<font color=\"red\">O que é classificação de texto zero-shot?</font> \n",
    "\n",
    "Confira este post — [Zero-Shot Learning in Modern NLP](https://joeddav.github.io/blog/2020/05/29/ZSL.html). Há uma [demonstração](https://huggingface.co/spaces/joeddav/zero-shot-demo) ao vivo da equipe Hugging Face, juntamente com um [notebook Colab](https://colab.research.google.com/drive/1jocViLorbwWIkTXKwxCOV9HLTaDDgCaw) de amostra . <font color=\"pink\">Em palavras simples, o modelo zero-shot nos permite classificar os dados, que não foram usados ​​para construir um modelo.</font> O que quero dizer aqui - o modelo foi construído por outra pessoa, estamos usando-o para executar em nossos dados.\n",
    "\n",
    "\n",
    "\n",
    "Achei que seria um exemplo útil, onde busco mensagens do `Twitter` e executo a classificação para agrupar as mensagens em tópicos. Isso pode ser usado como ponto de partida para casos de uso mais complexos.\n",
    "\n",
    "\n",
    "<font color=\"orange\">Estou usando a biblioteca `GetOldTweets3` para descartar mensagens do Twitter. A `classificação zero-shot` com Transformers é direta, eu estava seguindo o exemplo do Colab fornecido pelo Hugging Face.</font>"
   ]
  },
  {
   "attachments": {},
   "cell_type": "markdown",
   "metadata": {},
   "source": [
    "# Importamos as Bibliotecas"
   ]
  },
  {
   "cell_type": "code",
   "execution_count": 2,
   "metadata": {},
   "outputs": [
    {
     "name": "stderr",
     "output_type": "stream",
     "text": [
      "/home/eddygiusepe/1_Eddy_Giusepe/Zero-Shot-Text-Classification-with-Hugging-Face/venv_Zero-Shot/lib/python3.10/site-packages/tqdm/auto.py:21: TqdmWarning: IProgress not found. Please update jupyter and ipywidgets. See https://ipywidgets.readthedocs.io/en/stable/user_install.html\n",
      "  from .autonotebook import tqdm as notebook_tqdm\n",
      "2023-03-10 00:07:05.507755: I tensorflow/core/platform/cpu_feature_guard.cc:193] This TensorFlow binary is optimized with oneAPI Deep Neural Network Library (oneDNN) to use the following CPU instructions in performance-critical operations:  AVX2 AVX512F AVX512_VNNI FMA\n",
      "To enable them in other operations, rebuild TensorFlow with the appropriate compiler flags.\n",
      "2023-03-10 00:07:05.727112: I tensorflow/core/util/port.cc:104] oneDNN custom operations are on. You may see slightly different numerical results due to floating-point round-off errors from different computation orders. To turn them off, set the environment variable `TF_ENABLE_ONEDNN_OPTS=0`.\n",
      "2023-03-10 00:07:06.521738: W tensorflow/compiler/xla/stream_executor/platform/default/dso_loader.cc:64] Could not load dynamic library 'libnvinfer.so.7'; dlerror: libnvinfer.so.7: cannot open shared object file: No such file or directory\n",
      "2023-03-10 00:07:06.521811: W tensorflow/compiler/xla/stream_executor/platform/default/dso_loader.cc:64] Could not load dynamic library 'libnvinfer_plugin.so.7'; dlerror: libnvinfer_plugin.so.7: cannot open shared object file: No such file or directory\n",
      "2023-03-10 00:07:06.521817: W tensorflow/compiler/tf2tensorrt/utils/py_utils.cc:38] TF-TRT Warning: Cannot dlopen some TensorRT libraries. If you would like to use Nvidia GPU with TensorRT, please make sure the missing libraries mentioned above are installed properly.\n"
     ]
    }
   ],
   "source": [
    "import GetOldTweets3 as got\n",
    "import pandas as pd\n",
    "from tqdm import tqdm\n",
    "import matplotlib.pyplot as plt\n",
    "%matplotlib inline\n",
    "\n",
    "import seaborn as sns\n",
    "\n",
    "from transformers import pipeline"
   ]
  },
  {
   "attachments": {},
   "cell_type": "markdown",
   "metadata": {},
   "source": [
    "<font color=\"orange\">Instanciamos o classificador do Pipeline do Transformers:</font>"
   ]
  },
  {
   "cell_type": "code",
   "execution_count": null,
   "metadata": {},
   "outputs": [],
   "source": [
    "classifier = pipeline(\"zero-shot-classification\")\n"
   ]
  },
  {
   "attachments": {},
   "cell_type": "markdown",
   "metadata": {},
   "source": [
    "Eu raspo 500 mensagens mais recentes do Twitter, com base em uma consulta predefinida – `“luta climática”`. Vamos buscar mensagens relacionadas à luta contra as mudanças climáticas no quadro de dados do Pandas e, em seguida, tentar dividi-las em tópicos usando a classificação zero-shot:\n",
    "\n",
    "```\n",
    "txt = 'climate fight'\n",
    "max_recs = 500\n",
    "\n",
    "tweets_df = text_query_to_df(txt, max_recs)\n",
    "```"
   ]
  },
  {
   "cell_type": "code",
   "execution_count": null,
   "metadata": {},
   "outputs": [],
   "source": [
    "# Function that pulls tweets based on a general search query\n",
    "\n",
    "# Parameters: (text query you want to search), (max number of most recent tweets to pull from)\n",
    "def text_query_to_df(text_query, count):\n",
    "    # Creation of query object\n",
    "    tweetCriteria = got.manager.TweetCriteria().setQuerySearch(text_query)\\\n",
    "                                                .setMaxTweets(count).setLang('en')\n",
    "    # Creation of list that contains all tweets\n",
    "    tweets = got.manager.TweetManager.getTweets(tweetCriteria)\n",
    "\n",
    "    # Creating list of chosen tweet data\n",
    "    text_tweets = [[tweet.date, tweet.text] for tweet in tweets]\n",
    "\n",
    "    # Creation of dataframe from tweets\n",
    "    tweets_df = pd.DataFrame(text_tweets, columns = ['Datetime', 'Text'])\n",
    "\n",
    "    return tweets_df\n",
    "\n",
    "# Input search query to scrape tweets and name csv file\n",
    "# Max recent tweets pulls x amount of most recent tweets from that user\n",
    "txt = 'climate fight'\n",
    "max_recs = 500\n",
    "\n",
    "# Calling function to query X amount of relevant tweets and create a CSV file\n",
    "tweets_df = text_query_to_df(txt, max_recs)"
   ]
  },
  {
   "cell_type": "code",
   "execution_count": null,
   "metadata": {},
   "outputs": [],
   "source": []
  },
  {
   "cell_type": "code",
   "execution_count": null,
   "metadata": {},
   "outputs": [],
   "source": []
  },
  {
   "cell_type": "code",
   "execution_count": null,
   "metadata": {},
   "outputs": [],
   "source": []
  },
  {
   "cell_type": "code",
   "execution_count": null,
   "metadata": {},
   "outputs": [],
   "source": []
  }
 ],
 "metadata": {
  "kernelspec": {
   "display_name": "venv_Zero-Shot",
   "language": "python",
   "name": "python3"
  },
  "language_info": {
   "codemirror_mode": {
    "name": "ipython",
    "version": 3
   },
   "file_extension": ".py",
   "mimetype": "text/x-python",
   "name": "python",
   "nbconvert_exporter": "python",
   "pygments_lexer": "ipython3",
   "version": "3.10.6"
  },
  "orig_nbformat": 4,
  "vscode": {
   "interpreter": {
    "hash": "68b5289a8e48a427a97c1e1d48548351707ec7f15f6debeb7c8817ae637d4e6e"
   }
  }
 },
 "nbformat": 4,
 "nbformat_minor": 2
}
